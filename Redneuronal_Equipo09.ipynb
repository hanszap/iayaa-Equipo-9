{
 "cells": [
  {
   "cell_type": "markdown",
   "metadata": {
    "id": "VFj0sSM06dYa"
   },
   "source": [
    "#**Maestría en Inteligencia Artificial Aplicada**\n",
    "##**Curso: Inteligencia Artificial y Aprendizaje Automático**\n",
    "###Tecnológico de Monterrey\n",
    "###Prof Luis Eduardo Falcón Morales\n",
    "\n",
    "## **Adtividad de la Semana 7**\n",
    "###**Red Neuronal Artificial - Perceptrón Multicapa : Multilayer Perceptrón (MLP)**\n"
   ]
  },
  {
   "cell_type": "markdown",
   "metadata": {
    "id": "Qgrvy0RGB9XI"
   },
   "source": [
    "**Nombres y matrículas de los integrantes del equipo:**\n",
    "\n",
    "*   Jose Salvador Ortiz Sainz de Rozas - A01095149\n",
    "*   Juan Carlos Alvarado Carricarte - A01793486\n",
    "*   Rogelio Chávez López - A01794226\n",
    "*   Sergio López Madriz - A01064725\n",
    "*   Hansel Zapiain Rodríguez - A00469031\n"
   ]
  },
  {
   "cell_type": "markdown",
   "metadata": {
    "id": "FrJ2ahMODVj1"
   },
   "source": [
    "En cada sección deberás incluir todas las líneas de código necesarias para responder a cada uno de los ejercicios."
   ]
  },
  {
   "cell_type": "code",
   "execution_count": 45,
   "metadata": {
    "id": "exXsscs-Dh-2"
   },
   "outputs": [],
   "source": [
    "# Incluye aquí todos módulos, librerías y paquetes que requieras.\n",
    "\n",
    "import requests\n",
    "from io import BytesIO\n",
    "from zipfile import ZipFile\n",
    "\n",
    "import numpy as np\n",
    "import pandas as pd\n",
    "import matplotlib\n",
    "\n",
    "import matplotlib.pyplot as plt\n",
    "import seaborn as sns\n",
    "\n",
    "from sklearn import set_config, tree\n",
    "from sklearn import dummy\n",
    "from sklearn.model_selection import train_test_split, cross_validate,  RepeatedStratifiedKFold \n",
    "from sklearn.linear_model import LinearRegression,Ridge\n",
    "from sklearn.ensemble import RandomForestRegressor\n",
    "from sklearn.neural_network import MLPRegressor\n",
    "from sklearn.preprocessing import power_transform, PowerTransformer, MinMaxScaler, OneHotEncoder, QuantileTransformer\n",
    "from sklearn.impute import SimpleImputer\n",
    "from sklearn.inspection import permutation_importance\n",
    "from sklearn.pipeline import make_pipeline,Pipeline\n",
    "from sklearn.compose import ColumnTransformer\n",
    "\n",
    "from sklearn.metrics import classification_report,confusion_matrix,make_scorer\n",
    "\n",
    "from imblearn.metrics import geometric_mean_score, classification_report_imbalanced\n",
    "from sklearn.model_selection import validation_curve\n",
    "from sklearn.model_selection import learning_curve,GridSearchCV\n",
    "\n",
    "from sklearn.dummy import DummyRegressor\n"
   ]
  },
  {
   "cell_type": "markdown",
   "metadata": {
    "id": "X25brD-gQdZM"
   },
   "source": [
    "#**Ejercicio-1.** \n",
    "\n",
    "Se considera únicamente la variable de salida que se concluyó que es una de las mejores en el *artículo*: *'Lifetime People who have liked your Page and engaged with your post'*. Se renombró dicha variable como *“LPE”*. \n",
    "#####Las variables de entrada se han seleccionado las 7 variables que indican los autores en la *Tabla 3* del artículo citado."
   ]
  },
  {
   "cell_type": "code",
   "execution_count": 2,
   "metadata": {
    "colab": {
     "base_uri": "https://localhost:8080/",
     "height": 285
    },
    "id": "3nU2GuWYCy6C",
    "outputId": "610618f7-c6fe-4ed3-9b55-1787034d56d0"
   },
   "outputs": [
    {
     "data": {
      "text/html": [
       "<div>\n",
       "<style scoped>\n",
       "    .dataframe tbody tr th:only-of-type {\n",
       "        vertical-align: middle;\n",
       "    }\n",
       "\n",
       "    .dataframe tbody tr th {\n",
       "        vertical-align: top;\n",
       "    }\n",
       "\n",
       "    .dataframe thead th {\n",
       "        text-align: right;\n",
       "    }\n",
       "</style>\n",
       "<table border=\"1\" class=\"dataframe\">\n",
       "  <thead>\n",
       "    <tr style=\"text-align: right;\">\n",
       "      <th></th>\n",
       "      <th>Page total likes</th>\n",
       "      <th>Type</th>\n",
       "      <th>Category</th>\n",
       "      <th>Post Month</th>\n",
       "      <th>Post Weekday</th>\n",
       "      <th>Post Hour</th>\n",
       "      <th>Paid</th>\n",
       "      <th>Lifetime Post Total Reach</th>\n",
       "      <th>Lifetime Post Total Impressions</th>\n",
       "      <th>Lifetime Engaged Users</th>\n",
       "      <th>Lifetime Post Consumers</th>\n",
       "      <th>Lifetime Post Consumptions</th>\n",
       "      <th>Lifetime Post Impressions by people who have liked your Page</th>\n",
       "      <th>Lifetime Post reach by people who like your Page</th>\n",
       "      <th>LPE</th>\n",
       "      <th>comment</th>\n",
       "      <th>like</th>\n",
       "      <th>share</th>\n",
       "      <th>Total Interactions</th>\n",
       "    </tr>\n",
       "  </thead>\n",
       "  <tbody>\n",
       "    <tr>\n",
       "      <th>0</th>\n",
       "      <td>139441</td>\n",
       "      <td>Photo</td>\n",
       "      <td>2</td>\n",
       "      <td>12</td>\n",
       "      <td>4</td>\n",
       "      <td>3</td>\n",
       "      <td>0.0</td>\n",
       "      <td>2752</td>\n",
       "      <td>5091</td>\n",
       "      <td>178</td>\n",
       "      <td>109</td>\n",
       "      <td>159</td>\n",
       "      <td>3078</td>\n",
       "      <td>1640</td>\n",
       "      <td>119</td>\n",
       "      <td>4</td>\n",
       "      <td>79.0</td>\n",
       "      <td>17.0</td>\n",
       "      <td>100</td>\n",
       "    </tr>\n",
       "    <tr>\n",
       "      <th>1</th>\n",
       "      <td>139441</td>\n",
       "      <td>Status</td>\n",
       "      <td>2</td>\n",
       "      <td>12</td>\n",
       "      <td>3</td>\n",
       "      <td>10</td>\n",
       "      <td>0.0</td>\n",
       "      <td>10460</td>\n",
       "      <td>19057</td>\n",
       "      <td>1457</td>\n",
       "      <td>1361</td>\n",
       "      <td>1674</td>\n",
       "      <td>11710</td>\n",
       "      <td>6112</td>\n",
       "      <td>1108</td>\n",
       "      <td>5</td>\n",
       "      <td>130.0</td>\n",
       "      <td>29.0</td>\n",
       "      <td>164</td>\n",
       "    </tr>\n",
       "    <tr>\n",
       "      <th>2</th>\n",
       "      <td>139441</td>\n",
       "      <td>Photo</td>\n",
       "      <td>3</td>\n",
       "      <td>12</td>\n",
       "      <td>3</td>\n",
       "      <td>3</td>\n",
       "      <td>0.0</td>\n",
       "      <td>2413</td>\n",
       "      <td>4373</td>\n",
       "      <td>177</td>\n",
       "      <td>113</td>\n",
       "      <td>154</td>\n",
       "      <td>2812</td>\n",
       "      <td>1503</td>\n",
       "      <td>132</td>\n",
       "      <td>0</td>\n",
       "      <td>66.0</td>\n",
       "      <td>14.0</td>\n",
       "      <td>80</td>\n",
       "    </tr>\n",
       "    <tr>\n",
       "      <th>3</th>\n",
       "      <td>139441</td>\n",
       "      <td>Photo</td>\n",
       "      <td>2</td>\n",
       "      <td>12</td>\n",
       "      <td>2</td>\n",
       "      <td>10</td>\n",
       "      <td>1.0</td>\n",
       "      <td>50128</td>\n",
       "      <td>87991</td>\n",
       "      <td>2211</td>\n",
       "      <td>790</td>\n",
       "      <td>1119</td>\n",
       "      <td>61027</td>\n",
       "      <td>32048</td>\n",
       "      <td>1386</td>\n",
       "      <td>58</td>\n",
       "      <td>1572.0</td>\n",
       "      <td>147.0</td>\n",
       "      <td>1777</td>\n",
       "    </tr>\n",
       "    <tr>\n",
       "      <th>4</th>\n",
       "      <td>139441</td>\n",
       "      <td>Photo</td>\n",
       "      <td>2</td>\n",
       "      <td>12</td>\n",
       "      <td>2</td>\n",
       "      <td>3</td>\n",
       "      <td>0.0</td>\n",
       "      <td>7244</td>\n",
       "      <td>13594</td>\n",
       "      <td>671</td>\n",
       "      <td>410</td>\n",
       "      <td>580</td>\n",
       "      <td>6228</td>\n",
       "      <td>3200</td>\n",
       "      <td>396</td>\n",
       "      <td>19</td>\n",
       "      <td>325.0</td>\n",
       "      <td>49.0</td>\n",
       "      <td>393</td>\n",
       "    </tr>\n",
       "  </tbody>\n",
       "</table>\n",
       "</div>"
      ],
      "text/plain": [
       "   Page total likes    Type  Category  Post Month  Post Weekday  Post Hour  \\\n",
       "0            139441   Photo         2          12             4          3   \n",
       "1            139441  Status         2          12             3         10   \n",
       "2            139441   Photo         3          12             3          3   \n",
       "3            139441   Photo         2          12             2         10   \n",
       "4            139441   Photo         2          12             2          3   \n",
       "\n",
       "   Paid  Lifetime Post Total Reach  Lifetime Post Total Impressions  \\\n",
       "0   0.0                       2752                             5091   \n",
       "1   0.0                      10460                            19057   \n",
       "2   0.0                       2413                             4373   \n",
       "3   1.0                      50128                            87991   \n",
       "4   0.0                       7244                            13594   \n",
       "\n",
       "   Lifetime Engaged Users  Lifetime Post Consumers  \\\n",
       "0                     178                      109   \n",
       "1                    1457                     1361   \n",
       "2                     177                      113   \n",
       "3                    2211                      790   \n",
       "4                     671                      410   \n",
       "\n",
       "   Lifetime Post Consumptions  \\\n",
       "0                         159   \n",
       "1                        1674   \n",
       "2                         154   \n",
       "3                        1119   \n",
       "4                         580   \n",
       "\n",
       "   Lifetime Post Impressions by people who have liked your Page  \\\n",
       "0                                               3078              \n",
       "1                                              11710              \n",
       "2                                               2812              \n",
       "3                                              61027              \n",
       "4                                               6228              \n",
       "\n",
       "   Lifetime Post reach by people who like your Page   LPE  comment    like  \\\n",
       "0                                              1640   119        4    79.0   \n",
       "1                                              6112  1108        5   130.0   \n",
       "2                                              1503   132        0    66.0   \n",
       "3                                             32048  1386       58  1572.0   \n",
       "4                                              3200   396       19   325.0   \n",
       "\n",
       "   share  Total Interactions  \n",
       "0   17.0                 100  \n",
       "1   29.0                 164  \n",
       "2   14.0                  80  \n",
       "3  147.0                1777  \n",
       "4   49.0                 393  "
      ]
     },
     "execution_count": 2,
     "metadata": {},
     "output_type": "execute_result"
    }
   ],
   "source": [
    "url = \"https://archive.ics.uci.edu/ml/machine-learning-databases/00368/Facebook_metrics.zip\"\n",
    "\n",
    "with ZipFile(BytesIO(requests.get(url).content), \"r\") as myzip:\n",
    "    with myzip.open(\"dataset_Facebook.csv\", \"r\") as f_in:\n",
    "        df = pd.read_csv(f_in, sep=\";\")\n",
    "\n",
    "df.rename({'Lifetime People who have liked your Page and engaged with your post':'LPE'},inplace = True,axis=1)\n",
    "df.head()"
   ]
  },
  {
   "cell_type": "code",
   "execution_count": 3,
   "metadata": {
    "colab": {
     "base_uri": "https://localhost:8080/"
    },
    "id": "ref4f1TwJBto",
    "outputId": "855ab336-e637-49ea-9d2b-bc294f67ff54"
   },
   "outputs": [
    {
     "name": "stdout",
     "output_type": "stream",
     "text": [
      "1    215\n",
      "3    155\n",
      "2    130\n",
      "Name: Category, dtype: int64\n",
      "Photo     426\n",
      "Status     45\n",
      "Link       22\n",
      "Video       7\n",
      "Name: Type, dtype: int64\n"
     ]
    }
   ],
   "source": [
    "countCategories = df['Category'].value_counts()\n",
    "countTypes = df['Type'].value_counts()\n",
    "print(countCategories)\n",
    "print(countTypes)"
   ]
  },
  {
   "cell_type": "markdown",
   "metadata": {
    "id": "xZhr2hkECzVv"
   },
   "source": [
    "#**Ejercicio-2.**\n",
    "\n",
    "División de los datos con 100 *(20%)* datos de prueba y el resto de los datos serám usados para entrenamiento y validación"
   ]
  },
  {
   "cell_type": "code",
   "execution_count": 4,
   "metadata": {
    "colab": {
     "base_uri": "https://localhost:8080/",
     "height": 206
    },
    "id": "0ulkqXVGCy97",
    "outputId": "954dc2cf-e121-4ba8-aadd-0d13d1a765e5"
   },
   "outputs": [
    {
     "data": {
      "text/html": [
       "<div>\n",
       "<style scoped>\n",
       "    .dataframe tbody tr th:only-of-type {\n",
       "        vertical-align: middle;\n",
       "    }\n",
       "\n",
       "    .dataframe tbody tr th {\n",
       "        vertical-align: top;\n",
       "    }\n",
       "\n",
       "    .dataframe thead th {\n",
       "        text-align: right;\n",
       "    }\n",
       "</style>\n",
       "<table border=\"1\" class=\"dataframe\">\n",
       "  <thead>\n",
       "    <tr style=\"text-align: right;\">\n",
       "      <th></th>\n",
       "      <th>Page total likes</th>\n",
       "      <th>Type</th>\n",
       "      <th>Category</th>\n",
       "      <th>Post Month</th>\n",
       "      <th>Post Weekday</th>\n",
       "      <th>Post Hour</th>\n",
       "      <th>Paid</th>\n",
       "    </tr>\n",
       "  </thead>\n",
       "  <tbody>\n",
       "    <tr>\n",
       "      <th>0</th>\n",
       "      <td>139441</td>\n",
       "      <td>Photo</td>\n",
       "      <td>2</td>\n",
       "      <td>12</td>\n",
       "      <td>4</td>\n",
       "      <td>3</td>\n",
       "      <td>0.0</td>\n",
       "    </tr>\n",
       "    <tr>\n",
       "      <th>1</th>\n",
       "      <td>139441</td>\n",
       "      <td>Status</td>\n",
       "      <td>2</td>\n",
       "      <td>12</td>\n",
       "      <td>3</td>\n",
       "      <td>10</td>\n",
       "      <td>0.0</td>\n",
       "    </tr>\n",
       "    <tr>\n",
       "      <th>2</th>\n",
       "      <td>139441</td>\n",
       "      <td>Photo</td>\n",
       "      <td>3</td>\n",
       "      <td>12</td>\n",
       "      <td>3</td>\n",
       "      <td>3</td>\n",
       "      <td>0.0</td>\n",
       "    </tr>\n",
       "    <tr>\n",
       "      <th>3</th>\n",
       "      <td>139441</td>\n",
       "      <td>Photo</td>\n",
       "      <td>2</td>\n",
       "      <td>12</td>\n",
       "      <td>2</td>\n",
       "      <td>10</td>\n",
       "      <td>1.0</td>\n",
       "    </tr>\n",
       "    <tr>\n",
       "      <th>4</th>\n",
       "      <td>139441</td>\n",
       "      <td>Photo</td>\n",
       "      <td>2</td>\n",
       "      <td>12</td>\n",
       "      <td>2</td>\n",
       "      <td>3</td>\n",
       "      <td>0.0</td>\n",
       "    </tr>\n",
       "  </tbody>\n",
       "</table>\n",
       "</div>"
      ],
      "text/plain": [
       "   Page total likes    Type  Category  Post Month  Post Weekday  Post Hour  \\\n",
       "0            139441   Photo         2          12             4          3   \n",
       "1            139441  Status         2          12             3         10   \n",
       "2            139441   Photo         3          12             3          3   \n",
       "3            139441   Photo         2          12             2         10   \n",
       "4            139441   Photo         2          12             2          3   \n",
       "\n",
       "   Paid  \n",
       "0   0.0  \n",
       "1   0.0  \n",
       "2   0.0  \n",
       "3   1.0  \n",
       "4   0.0  "
      ]
     },
     "execution_count": 4,
     "metadata": {},
     "output_type": "execute_result"
    }
   ],
   "source": [
    "X = df.drop({'Lifetime Post Total Reach','Lifetime Post Total Impressions','Lifetime Engaged Users','Lifetime Post Consumers','Lifetime Post Consumptions','Lifetime Post Impressions by people who have liked your Page',\n",
    "             'Lifetime Post reach by people who like your Page','comment','like','share','Total Interactions','LPE'},axis=1)\n",
    "y = df['LPE']\n",
    "\n",
    "X.head()"
   ]
  },
  {
   "cell_type": "code",
   "execution_count": 5,
   "metadata": {
    "colab": {
     "base_uri": "https://localhost:8080/"
    },
    "id": "r0L5hBpntXaf",
    "outputId": "fb372430-ea95-439c-8f6b-76ce55312185"
   },
   "outputs": [
    {
     "data": {
      "text/plain": [
       "Page total likes    False\n",
       "Type                False\n",
       "Category            False\n",
       "Post Month          False\n",
       "Post Weekday        False\n",
       "Post Hour           False\n",
       "Paid                 True\n",
       "dtype: bool"
      ]
     },
     "execution_count": 5,
     "metadata": {},
     "output_type": "execute_result"
    }
   ],
   "source": [
    "X.isnull().any()      # Tenemos una variable con datos perdidos"
   ]
  },
  {
   "cell_type": "code",
   "execution_count": 6,
   "metadata": {
    "colab": {
     "base_uri": "https://localhost:8080/"
    },
    "id": "qhTgJqjItE5x",
    "outputId": "876c230e-de4e-424f-b9d5-6a3b9b86bb33"
   },
   "outputs": [
    {
     "data": {
      "text/plain": [
       "0     119\n",
       "1    1108\n",
       "2     132\n",
       "3    1386\n",
       "4     396\n",
       "Name: LPE, dtype: int64"
      ]
     },
     "execution_count": 6,
     "metadata": {},
     "output_type": "execute_result"
    }
   ],
   "source": [
    "y.head()"
   ]
  },
  {
   "cell_type": "code",
   "execution_count": 7,
   "metadata": {
    "colab": {
     "base_uri": "https://localhost:8080/"
    },
    "id": "kGfAoOPkC1PP",
    "outputId": "c105934d-9057-42e6-8194-1899f748aacd"
   },
   "outputs": [
    {
     "name": "stdout",
     "output_type": "stream",
     "text": [
      "Training set size:  (400, 7)\n",
      "Test set size:  (100, 7)\n",
      "Y Training set size:  (400,)\n",
      "Y test set size:  (100,)\n"
     ]
    }
   ],
   "source": [
    "X_train, X_test, y_train, y_test = train_test_split(X, y, test_size=0.20, shuffle=True, random_state=63)\n",
    "print('Training set size: ',X_train.shape)\n",
    "print('Test set size: ',X_test.shape)\n",
    "print('Y Training set size: ',y_train.shape)\n",
    "print('Y test set size: ',y_test.shape)"
   ]
  },
  {
   "cell_type": "markdown",
   "metadata": {
    "id": "NCunuooTC2W3"
   },
   "source": [
    "#**Ejercicio-3.**\n",
    "\n",
    "Definición de las funciones de errores para este problema de regresión. Los errores que se guramente son la raíz cuadrada del error cuadrático medio (**RMSE**), el error absoluto medio (**MAE**) y el error porcentual absoluto medio (**MAPE**)."
   ]
  },
  {
   "cell_type": "code",
   "execution_count": 8,
   "metadata": {
    "id": "YXlcSWA-C4Dj"
   },
   "outputs": [],
   "source": [
    "def mi_RMSE (actual_ts, forecast):\n",
    "    mse = np.square(np.subtract(actual_ts, forecast)).mean()\n",
    "    rmse = np.sqrt(mse)\n",
    "    return rmse\n",
    "\n",
    "def mi_MAE (actual_ts, forecast):\n",
    "    mae = np.absolute(np.subtract(actual_ts, forecast)).mean()\n",
    "    return mae\n",
    "\n",
    "def mi_MAPE (actual_ts, forecast):\n",
    "    actual_ts_filtered = actual_ts[:][actual_ts[:]!=0]\n",
    "    forecast_filtered = forecast[:][actual_ts[:]!=0]\n",
    "    mape = 100*np.sum(abs((actual_ts_filtered[:] - forecast_filtered[:])/actual_ts_filtered[:]))/len(actual_ts_filtered)\n",
    "    return mape"
   ]
  },
  {
   "cell_type": "markdown",
   "metadata": {
    "id": "chqk9jIDC5Pq"
   },
   "source": [
    "#**Ejercicio-4.**\n",
    "\n",
    "Análisis de los datos y correspondientes transformaciones que se consideraron adecuadas tanto en los datos de entrada, como en las de salida tomando en cuenta la informacion en relacion al significado de cada variable:"
   ]
  },
  {
   "cell_type": "code",
   "execution_count": 9,
   "metadata": {
    "colab": {
     "base_uri": "https://localhost:8080/",
     "height": 720
    },
    "id": "RBVSFwK4C6g9",
    "outputId": "e8d850d4-b782-44ba-ceee-d29053b94a66"
   },
   "outputs": [
    {
     "data": {
      "image/png": "[encoded data removed]",
      "text/plain": [
       "<Figure size 864x864 with 6 Axes>"
      ]
     },
     "metadata": {},
     "output_type": "display_data"
    }
   ],
   "source": [
    "c_categorical = ['Type','Category','Post Month','Post Weekday','Post Hour']\n",
    "c_numerical = ['Page total likes']\n",
    "c_binary = ['Paid']\n",
    "c_totalcat = np.append(c_categorical,c_binary,axis = 0)\n",
    "\n",
    "c_numerical_length = len(c_numerical)\n",
    "sns.set(rc={'figure.figsize':(12,12)})\n",
    "fig, axes = plt.subplots(5, c_numerical_length)    \n",
    "\n",
    "qt = QuantileTransformer(output_distribution='normal', n_quantiles=200)      # Transformación para normalizar la variable numerica  \n",
    "\n",
    "for k in range(0,c_numerical_length):       \n",
    "    plt.subplot(6,1,k+1)\n",
    "\n",
    "    Transf0 = df[c_numerical[k]]\n",
    "    sns.histplot(Transf0,color='red',bins=20)\n",
    "\n",
    "    plt.xlabel(c_numerical[k])\n",
    "    if k==0:\n",
    "      plt.ylabel('Originales')\n",
    "    \n",
    "\n",
    "    plt.subplot(6,1,k+2)    \n",
    "\n",
    "    Transf1 = df[c_numerical[k]].apply(lambda x:np.sqrt(x)) \n",
    "    sns.histplot(Transf1,color='green',bins=20)\n",
    "\n",
    "    plt.xlabel(c_numerical[k])\n",
    "    if k==0:\n",
    "      plt.ylabel('Raíz Cuadrada')\n",
    "    \n",
    "    \n",
    "    plt.subplot(6,1,k+3)     \n",
    "\n",
    "    Transf2 = df[c_numerical[k]].apply(lambda x: np.log(x))\n",
    "    sns.histplot(Transf2,color='blue',bins=20)\n",
    "\n",
    "    plt.xlabel(c_numerical[k])\n",
    "    if k==0:\n",
    "      plt.ylabel('Logaritmo')\n",
    "\n",
    "\n",
    "    plt.subplot(6,1,k+4)\n",
    "\n",
    "    Transf3 = df[c_numerical[k]].apply(lambda x: x**2)\n",
    "    sns.histplot(Transf3,color='Yellow',bins=20)\n",
    " \n",
    "    plt.xlabel(c_numerical[k])\n",
    "    if k==0:\n",
    "      plt.ylabel('Potencia 2')\n",
    "    \n",
    "\n",
    "    plt.subplot(6,1,k+5)\n",
    "\n",
    "    Transf4 = power_transform(df[c_numerical[k]].to_numpy().reshape(-1,1),method='box-cox')\n",
    "    sns.histplot(Transf4,color='Gray',bins=20)\n",
    "\n",
    "    plt.xlabel(c_numerical[k])\n",
    "    if k==0:\n",
    "      plt.ylabel('Box-Cox')\n",
    "\n",
    "    plt.subplot(6,1,k+6)\n",
    "\n",
    "    Transf5 = qt.fit_transform(df[c_numerical[k]].to_numpy().reshape(-1, 1))\n",
    "    sns.histplot(Transf5,color='Gray',bins=20)\n",
    "\n",
    "    plt.xlabel(c_numerical[k])\n",
    "    if k==0:\n",
    "      plt.ylabel('Quantile-Transform')\n",
    "plt.show()"
   ]
  },
  {
   "cell_type": "markdown",
   "metadata": {
    "id": "fG4bp2jgxhyg"
   },
   "source": [
    "Análisis de las variables categoricas:"
   ]
  },
  {
   "cell_type": "code",
   "execution_count": 10,
   "metadata": {
    "colab": {
     "base_uri": "https://localhost:8080/",
     "height": 302
    },
    "id": "BB_9LTDQEKnb",
    "outputId": "033e3d5c-1ce3-4ae9-a20d-e3ba88463871"
   },
   "outputs": [
    {
     "data": {
      "text/plain": [
       "<AxesSubplot:xlabel='Post Month', ylabel='count'>"
      ]
     },
     "execution_count": 10,
     "metadata": {},
     "output_type": "execute_result"
    },
    {
     "data": {
      "image/png": "[encoded data removed]",
      "text/plain": [
       "<Figure size 864x288 with 1 Axes>"
      ]
     },
     "metadata": {},
     "output_type": "display_data"
    }
   ],
   "source": [
    "sns.set(rc={'figure.figsize':(12,4)})\n",
    "day_order = [1, 2, 3, 4, 5, 6, 7, 8, 9, 10, 11, 12]\n",
    "sns.countplot(x = \"Post Month\", data = df, order = day_order)"
   ]
  },
  {
   "cell_type": "code",
   "execution_count": 11,
   "metadata": {
    "colab": {
     "base_uri": "https://localhost:8080/",
     "height": 302
    },
    "id": "UtG-U4BOC3MN",
    "outputId": "903f8e9c-a644-418b-c57d-c63352111112"
   },
   "outputs": [
    {
     "data": {
      "text/plain": [
       "<AxesSubplot:xlabel='Post Hour', ylabel='count'>"
      ]
     },
     "execution_count": 11,
     "metadata": {},
     "output_type": "execute_result"
    },
    {
     "data": {
      "image/png": "[encoded data removed]",
      "text/plain": [
       "<Figure size 1656x288 with 1 Axes>"
      ]
     },
     "metadata": {},
     "output_type": "display_data"
    }
   ],
   "source": [
    "sns.set(rc={'figure.figsize':(23,4)})\n",
    "day_order = [1, 2, 3, 4, 5, 6, 7, 8, 9, 10, 11, 12, 13, 14, 15, 16, 17, 18, 19, 20, 22, 23]\n",
    "sns.countplot(x = \"Post Hour\", data = df, order = day_order)"
   ]
  },
  {
   "cell_type": "markdown",
   "metadata": {
    "id": "hko1rSmJ0KC8"
   },
   "source": [
    "Se vuelve a generar la partición de los conjuntos \"TV\" y \"Test\" para que tomen en cuenta estas agrupaciónes."
   ]
  },
  {
   "cell_type": "code",
   "execution_count": 12,
   "metadata": {
    "id": "Bc-7zOko0Yhq"
   },
   "outputs": [],
   "source": [
    "X = df.drop({'Lifetime Post Total Reach','Lifetime Post Total Impressions','Lifetime Engaged Users','Lifetime Post Consumers','Lifetime Post Consumptions','Lifetime Post Impressions by people who have liked your Page',\n",
    "             'Lifetime Post reach by people who like your Page','comment','like','share','Total Interactions','LPE'},axis=1)\n",
    "y = df['LPE']\n",
    "X_train, X_test, y_train, y_test = train_test_split(X, y, test_size=0.20, shuffle=True, random_state=63)"
   ]
  },
  {
   "cell_type": "markdown",
   "metadata": {
    "id": "BDc5lQWTcAgP"
   },
   "source": [
    "Para evitar el filtrado de información (**data leakage**) se ha utilizado el siguiente Pipeline:\n"
   ]
  },
  {
   "cell_type": "code",
   "execution_count": 48,
   "metadata": {
    "colab": {
     "base_uri": "https://localhost:8080/",
     "height": 152
    },
    "id": "w3xMqy--AjtD",
    "outputId": "d30bdeac-3fef-4461-db59-1978c7488727"
   },
   "outputs": [
    {
     "data": {
      "text/html": [
       "<style>#sk-container-id-2 {color: black;background-color: white;}#sk-container-id-2 pre{padding: 0;}#sk-container-id-2 div.sk-toggleable {background-color: white;}#sk-container-id-2 label.sk-toggleable__label {cursor: pointer;display: block;width: 100%;margin-bottom: 0;padding: 0.3em;box-sizing: border-box;text-align: center;}#sk-container-id-2 label.sk-toggleable__label-arrow:before {content: \"▸\";float: left;margin-right: 0.25em;color: #696969;}#sk-container-id-2 label.sk-toggleable__label-arrow:hover:before {color: black;}#sk-container-id-2 div.sk-estimator:hover label.sk-toggleable__label-arrow:before {color: black;}#sk-container-id-2 div.sk-toggleable__content {max-height: 0;max-width: 0;overflow: hidden;text-align: left;background-color: #f0f8ff;}#sk-container-id-2 div.sk-toggleable__content pre {margin: 0.2em;color: black;border-radius: 0.25em;background-color: #f0f8ff;}#sk-container-id-2 input.sk-toggleable__control:checked~div.sk-toggleable__content {max-height: 200px;max-width: 100%;overflow: auto;}#sk-container-id-2 input.sk-toggleable__control:checked~label.sk-toggleable__label-arrow:before {content: \"▾\";}#sk-container-id-2 div.sk-estimator input.sk-toggleable__control:checked~label.sk-toggleable__label {background-color: #d4ebff;}#sk-container-id-2 div.sk-label input.sk-toggleable__control:checked~label.sk-toggleable__label {background-color: #d4ebff;}#sk-container-id-2 input.sk-hidden--visually {border: 0;clip: rect(1px 1px 1px 1px);clip: rect(1px, 1px, 1px, 1px);height: 1px;margin: -1px;overflow: hidden;padding: 0;position: absolute;width: 1px;}#sk-container-id-2 div.sk-estimator {font-family: monospace;background-color: #f0f8ff;border: 1px dotted black;border-radius: 0.25em;box-sizing: border-box;margin-bottom: 0.5em;}#sk-container-id-2 div.sk-estimator:hover {background-color: #d4ebff;}#sk-container-id-2 div.sk-parallel-item::after {content: \"\";width: 100%;border-bottom: 1px solid gray;flex-grow: 1;}#sk-container-id-2 div.sk-label:hover label.sk-toggleable__label {background-color: #d4ebff;}#sk-container-id-2 div.sk-serial::before {content: \"\";position: absolute;border-left: 1px solid gray;box-sizing: border-box;top: 0;bottom: 0;left: 50%;z-index: 0;}#sk-container-id-2 div.sk-serial {display: flex;flex-direction: column;align-items: center;background-color: white;padding-right: 0.2em;padding-left: 0.2em;position: relative;}#sk-container-id-2 div.sk-item {position: relative;z-index: 1;}#sk-container-id-2 div.sk-parallel {display: flex;align-items: stretch;justify-content: center;background-color: white;position: relative;}#sk-container-id-2 div.sk-item::before, #sk-container-id-2 div.sk-parallel-item::before {content: \"\";position: absolute;border-left: 1px solid gray;box-sizing: border-box;top: 0;bottom: 0;left: 50%;z-index: -1;}#sk-container-id-2 div.sk-parallel-item {display: flex;flex-direction: column;z-index: 1;position: relative;background-color: white;}#sk-container-id-2 div.sk-parallel-item:first-child::after {align-self: flex-end;width: 50%;}#sk-container-id-2 div.sk-parallel-item:last-child::after {align-self: flex-start;width: 50%;}#sk-container-id-2 div.sk-parallel-item:only-child::after {width: 0;}#sk-container-id-2 div.sk-dashed-wrapped {border: 1px dashed gray;margin: 0 0.4em 0.5em 0.4em;box-sizing: border-box;padding-bottom: 0.4em;background-color: white;}#sk-container-id-2 div.sk-label label {font-family: monospace;font-weight: bold;display: inline-block;line-height: 1.2em;}#sk-container-id-2 div.sk-label-container {text-align: center;}#sk-container-id-2 div.sk-container {/* jupyter's `normalize.less` sets `[hidden] { display: none; }` but bootstrap.min.css set `[hidden] { display: none !important; }` so we also need the `!important` here to be able to override the default hidden behavior on the sphinx rendered scikit-learn.org. See: https://github.com/scikit-learn/scikit-learn/issues/21755 */display: inline-block !important;position: relative;}#sk-container-id-2 div.sk-text-repr-fallback {display: none;}</style><div id=\"sk-container-id-2\" class=\"sk-top-container\"><div class=\"sk-text-repr-fallback\"><pre>ColumnTransformer(remainder=&#x27;passthrough&#x27;,\n",
       "                  transformers=[(&#x27;numerical&#x27;,\n",
       "                                 Pipeline(steps=[(&#x27;impMed&#x27;,\n",
       "                                                  SimpleImputer(strategy=&#x27;median&#x27;)),\n",
       "                                                 (&#x27;normalize&#x27;,\n",
       "                                                  QuantileTransformer(n_quantiles=200,\n",
       "                                                                      output_distribution=&#x27;normal&#x27;))]),\n",
       "                                 [&#x27;Page total likes&#x27;]),\n",
       "                                (&#x27;categorical&#x27;,\n",
       "                                 Pipeline(steps=[(&#x27;impfreq&#x27;,\n",
       "                                                  SimpleImputer(strategy=&#x27;most_frequent&#x27;)),\n",
       "                                                 (&#x27;oneHot&#x27;,\n",
       "                                                  OneHotEncoder(handle_unknown=&#x27;ignore&#x27;))]),\n",
       "                                 array([&#x27;Type&#x27;, &#x27;Category&#x27;, &#x27;Post Month&#x27;, &#x27;Post Weekday&#x27;, &#x27;Post Hour&#x27;,\n",
       "       &#x27;Paid&#x27;], dtype=&#x27;&lt;U12&#x27;))])</pre><b>In a Jupyter environment, please rerun this cell to show the HTML representation or trust the notebook. <br />On GitHub, the HTML representation is unable to render, please try loading this page with nbviewer.org.</b></div><div class=\"sk-container\" hidden><div class=\"sk-item sk-dashed-wrapped\"><div class=\"sk-label-container\"><div class=\"sk-label sk-toggleable\"><input class=\"sk-toggleable__control sk-hidden--visually\" id=\"sk-estimator-id-9\" type=\"checkbox\" ><label for=\"sk-estimator-id-9\" class=\"sk-toggleable__label sk-toggleable__label-arrow\">ColumnTransformer</label><div class=\"sk-toggleable__content\"><pre>ColumnTransformer(remainder=&#x27;passthrough&#x27;,\n",
       "                  transformers=[(&#x27;numerical&#x27;,\n",
       "                                 Pipeline(steps=[(&#x27;impMed&#x27;,\n",
       "                                                  SimpleImputer(strategy=&#x27;median&#x27;)),\n",
       "                                                 (&#x27;normalize&#x27;,\n",
       "                                                  QuantileTransformer(n_quantiles=200,\n",
       "                                                                      output_distribution=&#x27;normal&#x27;))]),\n",
       "                                 [&#x27;Page total likes&#x27;]),\n",
       "                                (&#x27;categorical&#x27;,\n",
       "                                 Pipeline(steps=[(&#x27;impfreq&#x27;,\n",
       "                                                  SimpleImputer(strategy=&#x27;most_frequent&#x27;)),\n",
       "                                                 (&#x27;oneHot&#x27;,\n",
       "                                                  OneHotEncoder(handle_unknown=&#x27;ignore&#x27;))]),\n",
       "                                 array([&#x27;Type&#x27;, &#x27;Category&#x27;, &#x27;Post Month&#x27;, &#x27;Post Weekday&#x27;, &#x27;Post Hour&#x27;,\n",
       "       &#x27;Paid&#x27;], dtype=&#x27;&lt;U12&#x27;))])</pre></div></div></div><div class=\"sk-parallel\"><div class=\"sk-parallel-item\"><div class=\"sk-item\"><div class=\"sk-label-container\"><div class=\"sk-label sk-toggleable\"><input class=\"sk-toggleable__control sk-hidden--visually\" id=\"sk-estimator-id-10\" type=\"checkbox\" ><label for=\"sk-estimator-id-10\" class=\"sk-toggleable__label sk-toggleable__label-arrow\">numerical</label><div class=\"sk-toggleable__content\"><pre>[&#x27;Page total likes&#x27;]</pre></div></div></div><div class=\"sk-serial\"><div class=\"sk-item\"><div class=\"sk-serial\"><div class=\"sk-item\"><div class=\"sk-estimator sk-toggleable\"><input class=\"sk-toggleable__control sk-hidden--visually\" id=\"sk-estimator-id-11\" type=\"checkbox\" ><label for=\"sk-estimator-id-11\" class=\"sk-toggleable__label sk-toggleable__label-arrow\">SimpleImputer</label><div class=\"sk-toggleable__content\"><pre>SimpleImputer(strategy=&#x27;median&#x27;)</pre></div></div></div><div class=\"sk-item\"><div class=\"sk-estimator sk-toggleable\"><input class=\"sk-toggleable__control sk-hidden--visually\" id=\"sk-estimator-id-12\" type=\"checkbox\" ><label for=\"sk-estimator-id-12\" class=\"sk-toggleable__label sk-toggleable__label-arrow\">QuantileTransformer</label><div class=\"sk-toggleable__content\"><pre>QuantileTransformer(n_quantiles=200, output_distribution=&#x27;normal&#x27;)</pre></div></div></div></div></div></div></div></div><div class=\"sk-parallel-item\"><div class=\"sk-item\"><div class=\"sk-label-container\"><div class=\"sk-label sk-toggleable\"><input class=\"sk-toggleable__control sk-hidden--visually\" id=\"sk-estimator-id-13\" type=\"checkbox\" ><label for=\"sk-estimator-id-13\" class=\"sk-toggleable__label sk-toggleable__label-arrow\">categorical</label><div class=\"sk-toggleable__content\"><pre>[&#x27;Type&#x27; &#x27;Category&#x27; &#x27;Post Month&#x27; &#x27;Post Weekday&#x27; &#x27;Post Hour&#x27; &#x27;Paid&#x27;]</pre></div></div></div><div class=\"sk-serial\"><div class=\"sk-item\"><div class=\"sk-serial\"><div class=\"sk-item\"><div class=\"sk-estimator sk-toggleable\"><input class=\"sk-toggleable__control sk-hidden--visually\" id=\"sk-estimator-id-14\" type=\"checkbox\" ><label for=\"sk-estimator-id-14\" class=\"sk-toggleable__label sk-toggleable__label-arrow\">SimpleImputer</label><div class=\"sk-toggleable__content\"><pre>SimpleImputer(strategy=&#x27;most_frequent&#x27;)</pre></div></div></div><div class=\"sk-item\"><div class=\"sk-estimator sk-toggleable\"><input class=\"sk-toggleable__control sk-hidden--visually\" id=\"sk-estimator-id-15\" type=\"checkbox\" ><label for=\"sk-estimator-id-15\" class=\"sk-toggleable__label sk-toggleable__label-arrow\">OneHotEncoder</label><div class=\"sk-toggleable__content\"><pre>OneHotEncoder(handle_unknown=&#x27;ignore&#x27;)</pre></div></div></div></div></div></div></div></div><div class=\"sk-parallel-item\"><div class=\"sk-item\"><div class=\"sk-label-container\"><div class=\"sk-label sk-toggleable\"><input class=\"sk-toggleable__control sk-hidden--visually\" id=\"sk-estimator-id-16\" type=\"checkbox\" ><label for=\"sk-estimator-id-16\" class=\"sk-toggleable__label sk-toggleable__label-arrow\">remainder</label><div class=\"sk-toggleable__content\"><pre></pre></div></div></div><div class=\"sk-serial\"><div class=\"sk-item\"><div class=\"sk-estimator sk-toggleable\"><input class=\"sk-toggleable__control sk-hidden--visually\" id=\"sk-estimator-id-17\" type=\"checkbox\" ><label for=\"sk-estimator-id-17\" class=\"sk-toggleable__label sk-toggleable__label-arrow\">passthrough</label><div class=\"sk-toggleable__content\"><pre>passthrough</pre></div></div></div></div></div></div></div></div></div></div>"
      ],
      "text/plain": [
       "ColumnTransformer(remainder='passthrough',\n",
       "                  transformers=[('numerical',\n",
       "                                 Pipeline(steps=[('impMed',\n",
       "                                                  SimpleImputer(strategy='median')),\n",
       "                                                 ('normalize',\n",
       "                                                  QuantileTransformer(n_quantiles=200,\n",
       "                                                                      output_distribution='normal'))]),\n",
       "                                 ['Page total likes']),\n",
       "                                ('categorical',\n",
       "                                 Pipeline(steps=[('impfreq',\n",
       "                                                  SimpleImputer(strategy='most_frequent')),\n",
       "                                                 ('oneHot',\n",
       "                                                  OneHotEncoder(handle_unknown='ignore'))]),\n",
       "                                 array(['Type', 'Category', 'Post Month', 'Post Weekday', 'Post Hour',\n",
       "       'Paid'], dtype='<U12'))])"
      ]
     },
     "execution_count": 48,
     "metadata": {},
     "output_type": "execute_result"
    }
   ],
   "source": [
    "set_config(display=\"diagram\")\n",
    "numerical_tranformer_pipeline = Pipeline(steps = [('impMed', SimpleImputer(strategy='median')),\n",
    "                                        ('normalize', QuantileTransformer(output_distribution='normal', n_quantiles=200))\n",
    "                                        ])\n",
    "categorical_tranformer_pipeline = Pipeline(steps = [('impfreq', SimpleImputer(strategy='most_frequent')),\n",
    "                                                    ('oneHot', OneHotEncoder(handle_unknown='ignore'))])\n",
    "columnasTransformer = ColumnTransformer(transformers = [('numerical', numerical_tranformer_pipeline, c_numerical),\n",
    "                                                        ('categorical', categorical_tranformer_pipeline, c_totalcat)],\n",
    "                                        remainder='passthrough')\n",
    "columnasTransformer"
   ]
  },
  {
   "cell_type": "markdown",
   "metadata": {
    "id": "Rv7KFq-mC7PS"
   },
   "source": [
    "#**Ejercicio-5.**\n",
    "\n",
    "Uso de la **función Dummy** para modelos de regresión con el conjunto que tienes de datos de entrenamiento y validación. Los datos se han dividido en 100 (**25%**) para el conjunto de validación y 300 (**75%**) para entrenamiento. "
   ]
  },
  {
   "cell_type": "markdown",
   "metadata": {
    "id": "IRNnNTJOf-Mt"
   },
   "source": [
    "Referencia: https://scikit-learn.org/stable/modules/generated/sklearn.dummy.DummyRegressor.html\n"
   ]
  },
  {
   "cell_type": "code",
   "execution_count": 14,
   "metadata": {
    "colab": {
     "base_uri": "https://localhost:8080/"
    },
    "id": "jaDj3kawC9B6",
    "outputId": "8768a54c-b42f-4a95-e4d6-393f29e996c7"
   },
   "outputs": [
    {
     "name": "stdout",
     "output_type": "stream",
     "text": [
      "Training set size:  (300, 7)\n",
      "Test set size:  (100, 7)\n",
      "Y Training set size:  (300,)\n",
      "Y test set size:  (100,)\n"
     ]
    }
   ],
   "source": [
    "X_train, X_val, y_train, y_val = train_test_split(X_train, y_train, test_size=0.25, shuffle=True, random_state=63)\n",
    "print('Training set size: ',X_train.shape)\n",
    "print('Test set size: ',X_val.shape)\n",
    "print('Y Training set size: ',y_train.shape)\n",
    "print('Y test set size: ',y_val.shape)"
   ]
  },
  {
   "cell_type": "markdown",
   "metadata": {
    "id": "2P2cNU6NiYqK"
   },
   "source": [
    "A continuación se muestran las métricas: *RMSE*, *MAE* y *MAPE* para los \n",
    "conjuntos de entrenamiento y validación. Estos resultados se han definido como los errores máximos."
   ]
  },
  {
   "cell_type": "code",
   "execution_count": 15,
   "metadata": {
    "colab": {
     "base_uri": "https://localhost:8080/"
    },
    "id": "4tQxQROVC9Us",
    "outputId": "56da3759-91f1-449c-a5ff-05059417741c"
   },
   "outputs": [
    {
     "name": "stdout",
     "output_type": "stream",
     "text": [
      "RMSE Train:  597.7326695661421\n",
      "MAE Train 404.58319999999867\n",
      "MAPE Train 117.74996428769239\n"
     ]
    }
   ],
   "source": [
    "#Resultados para el conjunto de entreamiento:\n",
    "dummy_regr = DummyRegressor(strategy='mean')\n",
    "dummy_regr.fit(X_train, y_train)\n",
    "train_yhat = dummy_regr.predict(X_train)\n",
    "print('RMSE Train: ',mi_RMSE(y_train, train_yhat))\n",
    "print('MAE Train', mi_MAE(y_train,train_yhat))\n",
    "print('MAPE Train', mi_MAPE(y_train,train_yhat))"
   ]
  },
  {
   "cell_type": "code",
   "execution_count": 16,
   "metadata": {
    "colab": {
     "base_uri": "https://localhost:8080/"
    },
    "id": "ByX2W1Z_LhZP",
    "outputId": "5d36d940-590d-4566-94e9-1e8375655047"
   },
   "outputs": [
    {
     "name": "stdout",
     "output_type": "stream",
     "text": [
      "RMSE Validation:  591.1208386616056\n",
      "MAE Validation 339.1566000000004\n",
      "MAPE Validation 80.87126374531032\n"
     ]
    }
   ],
   "source": [
    "#Resultados para el conjunto de validación:\n",
    "dummy_regr = DummyRegressor(strategy='mean')\n",
    "dummy_regr.fit(X_val, y_val)\n",
    "val_yhat = dummy_regr.predict(X_val)\n",
    "print('RMSE Validation: ',mi_RMSE(y_val, val_yhat))\n",
    "print('MAE Validation', mi_MAE(y_val,val_yhat))\n",
    "print('MAPE Validation', mi_MAPE(y_val,val_yhat))"
   ]
  },
  {
   "cell_type": "markdown",
   "metadata": {
    "id": "W2S7LI0NC9wE"
   },
   "source": [
    "#**Ejercicio-6.**\n",
    "\n",
    "Usando los modelos de regresión lineal múltiple (**RLM**), el bosque aleatorio (**RF**) y el perceptrón multicapa (**MLP**) con sus valores predeterminados, lleva a cabo su entrenamiento con repeticiones de validación cruzada **(RepeatedKFold)** y desplegando los errores **RMSE**, **MAE** y **MAPE**. Recuerda evitar el filtrado de información usando los datos que obtuviste en el **ejercicio 2**."
   ]
  },
  {
   "cell_type": "code",
   "execution_count": 50,
   "metadata": {
    "id": "x6uBleJUC_AU"
   },
   "outputs": [],
   "source": [
    "def get_models():\n",
    "    modelos, nombres = list(), list()\n",
    "\n",
    "    modelos.append(LinearRegression())\n",
    "    nombres.append('LinearRegression')\n",
    "\n",
    "    modelos.append(RandomForestRegressor(random_state = 63))\n",
    "    nombres.append('RandomForestRegressor')\n",
    "\n",
    "    modelos.append(MLPRegressor(\n",
    "          solver = 'adam',\n",
    "          activation = 'relu',\n",
    "          max_iter = 500,\n",
    "          random_state = 63\n",
    "          ))\n",
    "    nombres.append('MLPRegressor')\n",
    "\n",
    "    return modelos, nombres"
   ]
  },
  {
   "cell_type": "code",
   "execution_count": 51,
   "metadata": {
    "colab": {
     "base_uri": "https://localhost:8080/"
    },
    "id": "n0P_AcyjC_Dh",
    "outputId": "a225b4f2-efbc-4b0f-8383-bb245aaa5718"
   },
   "outputs": [
    {
     "name": "stderr",
     "output_type": "stream",
     "text": [
      "C:\\Users\\hzapi\\anaconda3\\lib\\site-packages\\sklearn\\model_selection\\_split.py:684: UserWarning: The least populated class in y has only 1 members, which is less than n_splits=2.\n",
      "  warnings.warn(\n",
      "C:\\Users\\hzapi\\anaconda3\\lib\\site-packages\\sklearn\\preprocessing\\_data.py:2583: UserWarning: n_quantiles (200) is greater than the total number of samples (150). n_quantiles is set to n_samples.\n",
      "  warnings.warn(\n",
      "C:\\Users\\hzapi\\anaconda3\\lib\\site-packages\\sklearn\\preprocessing\\_data.py:2583: UserWarning: n_quantiles (200) is greater than the total number of samples (150). n_quantiles is set to n_samples.\n",
      "  warnings.warn(\n",
      "C:\\Users\\hzapi\\anaconda3\\lib\\site-packages\\sklearn\\model_selection\\_split.py:684: UserWarning: The least populated class in y has only 1 members, which is less than n_splits=2.\n",
      "  warnings.warn(\n",
      "C:\\Users\\hzapi\\anaconda3\\lib\\site-packages\\sklearn\\preprocessing\\_data.py:2583: UserWarning: n_quantiles (200) is greater than the total number of samples (150). n_quantiles is set to n_samples.\n",
      "  warnings.warn(\n",
      "C:\\Users\\hzapi\\anaconda3\\lib\\site-packages\\sklearn\\preprocessing\\_data.py:2583: UserWarning: n_quantiles (200) is greater than the total number of samples (150). n_quantiles is set to n_samples.\n",
      "  warnings.warn(\n",
      "C:\\Users\\hzapi\\anaconda3\\lib\\site-packages\\sklearn\\model_selection\\_split.py:684: UserWarning: The least populated class in y has only 1 members, which is less than n_splits=2.\n",
      "  warnings.warn(\n",
      "C:\\Users\\hzapi\\anaconda3\\lib\\site-packages\\sklearn\\preprocessing\\_data.py:2583: UserWarning: n_quantiles (200) is greater than the total number of samples (150). n_quantiles is set to n_samples.\n",
      "  warnings.warn(\n",
      "C:\\Users\\hzapi\\anaconda3\\lib\\site-packages\\sklearn\\preprocessing\\_data.py:2583: UserWarning: n_quantiles (200) is greater than the total number of samples (150). n_quantiles is set to n_samples.\n",
      "  warnings.warn(\n",
      "C:\\Users\\hzapi\\anaconda3\\lib\\site-packages\\sklearn\\model_selection\\_split.py:684: UserWarning: The least populated class in y has only 1 members, which is less than n_splits=2.\n",
      "  warnings.warn(\n"
     ]
    },
    {
     "name": "stdout",
     "output_type": "stream",
     "text": [
      "LinearRegression:\n",
      "mean RMSE: 584.206 (16.9780)\n",
      "mean MAE: 381.420 (8.2961)\n",
      "mean MAPE: 106.353 (15.2285)\n",
      "\n"
     ]
    },
    {
     "name": "stderr",
     "output_type": "stream",
     "text": [
      "C:\\Users\\hzapi\\anaconda3\\lib\\site-packages\\sklearn\\preprocessing\\_data.py:2583: UserWarning: n_quantiles (200) is greater than the total number of samples (150). n_quantiles is set to n_samples.\n",
      "  warnings.warn(\n",
      "C:\\Users\\hzapi\\anaconda3\\lib\\site-packages\\sklearn\\preprocessing\\_data.py:2583: UserWarning: n_quantiles (200) is greater than the total number of samples (150). n_quantiles is set to n_samples.\n",
      "  warnings.warn(\n",
      "C:\\Users\\hzapi\\anaconda3\\lib\\site-packages\\sklearn\\model_selection\\_split.py:684: UserWarning: The least populated class in y has only 1 members, which is less than n_splits=2.\n",
      "  warnings.warn(\n",
      "C:\\Users\\hzapi\\anaconda3\\lib\\site-packages\\sklearn\\preprocessing\\_data.py:2583: UserWarning: n_quantiles (200) is greater than the total number of samples (150). n_quantiles is set to n_samples.\n",
      "  warnings.warn(\n",
      "C:\\Users\\hzapi\\anaconda3\\lib\\site-packages\\sklearn\\preprocessing\\_data.py:2583: UserWarning: n_quantiles (200) is greater than the total number of samples (150). n_quantiles is set to n_samples.\n",
      "  warnings.warn(\n",
      "C:\\Users\\hzapi\\anaconda3\\lib\\site-packages\\sklearn\\model_selection\\_split.py:684: UserWarning: The least populated class in y has only 1 members, which is less than n_splits=2.\n",
      "  warnings.warn(\n",
      "C:\\Users\\hzapi\\anaconda3\\lib\\site-packages\\sklearn\\preprocessing\\_data.py:2583: UserWarning: n_quantiles (200) is greater than the total number of samples (150). n_quantiles is set to n_samples.\n",
      "  warnings.warn(\n",
      "C:\\Users\\hzapi\\anaconda3\\lib\\site-packages\\sklearn\\preprocessing\\_data.py:2583: UserWarning: n_quantiles (200) is greater than the total number of samples (150). n_quantiles is set to n_samples.\n",
      "  warnings.warn(\n"
     ]
    },
    {
     "name": "stdout",
     "output_type": "stream",
     "text": [
      "RandomForestRegressor:\n",
      "mean RMSE: 557.209 (21.9490)\n",
      "mean MAE: 340.637 (13.5142)\n",
      "mean MAPE: 84.535 (7.8574)\n",
      "\n"
     ]
    },
    {
     "name": "stderr",
     "output_type": "stream",
     "text": [
      "C:\\Users\\hzapi\\anaconda3\\lib\\site-packages\\sklearn\\model_selection\\_split.py:684: UserWarning: The least populated class in y has only 1 members, which is less than n_splits=2.\n",
      "  warnings.warn(\n",
      "C:\\Users\\hzapi\\anaconda3\\lib\\site-packages\\sklearn\\preprocessing\\_data.py:2583: UserWarning: n_quantiles (200) is greater than the total number of samples (150). n_quantiles is set to n_samples.\n",
      "  warnings.warn(\n",
      "C:\\Users\\hzapi\\anaconda3\\lib\\site-packages\\sklearn\\neural_network\\_multilayer_perceptron.py:702: ConvergenceWarning: Stochastic Optimizer: Maximum iterations (500) reached and the optimization hasn't converged yet.\n",
      "  warnings.warn(\n",
      "C:\\Users\\hzapi\\anaconda3\\lib\\site-packages\\sklearn\\preprocessing\\_data.py:2583: UserWarning: n_quantiles (200) is greater than the total number of samples (150). n_quantiles is set to n_samples.\n",
      "  warnings.warn(\n",
      "C:\\Users\\hzapi\\anaconda3\\lib\\site-packages\\sklearn\\neural_network\\_multilayer_perceptron.py:702: ConvergenceWarning: Stochastic Optimizer: Maximum iterations (500) reached and the optimization hasn't converged yet.\n",
      "  warnings.warn(\n",
      "C:\\Users\\hzapi\\anaconda3\\lib\\site-packages\\sklearn\\model_selection\\_split.py:684: UserWarning: The least populated class in y has only 1 members, which is less than n_splits=2.\n",
      "  warnings.warn(\n",
      "C:\\Users\\hzapi\\anaconda3\\lib\\site-packages\\sklearn\\preprocessing\\_data.py:2583: UserWarning: n_quantiles (200) is greater than the total number of samples (150). n_quantiles is set to n_samples.\n",
      "  warnings.warn(\n",
      "C:\\Users\\hzapi\\anaconda3\\lib\\site-packages\\sklearn\\neural_network\\_multilayer_perceptron.py:702: ConvergenceWarning: Stochastic Optimizer: Maximum iterations (500) reached and the optimization hasn't converged yet.\n",
      "  warnings.warn(\n",
      "C:\\Users\\hzapi\\anaconda3\\lib\\site-packages\\sklearn\\preprocessing\\_data.py:2583: UserWarning: n_quantiles (200) is greater than the total number of samples (150). n_quantiles is set to n_samples.\n",
      "  warnings.warn(\n",
      "C:\\Users\\hzapi\\anaconda3\\lib\\site-packages\\sklearn\\neural_network\\_multilayer_perceptron.py:702: ConvergenceWarning: Stochastic Optimizer: Maximum iterations (500) reached and the optimization hasn't converged yet.\n",
      "  warnings.warn(\n",
      "C:\\Users\\hzapi\\anaconda3\\lib\\site-packages\\sklearn\\model_selection\\_split.py:684: UserWarning: The least populated class in y has only 1 members, which is less than n_splits=2.\n",
      "  warnings.warn(\n",
      "C:\\Users\\hzapi\\anaconda3\\lib\\site-packages\\sklearn\\preprocessing\\_data.py:2583: UserWarning: n_quantiles (200) is greater than the total number of samples (150). n_quantiles is set to n_samples.\n",
      "  warnings.warn(\n",
      "C:\\Users\\hzapi\\anaconda3\\lib\\site-packages\\sklearn\\neural_network\\_multilayer_perceptron.py:702: ConvergenceWarning: Stochastic Optimizer: Maximum iterations (500) reached and the optimization hasn't converged yet.\n",
      "  warnings.warn(\n",
      "C:\\Users\\hzapi\\anaconda3\\lib\\site-packages\\sklearn\\preprocessing\\_data.py:2583: UserWarning: n_quantiles (200) is greater than the total number of samples (150). n_quantiles is set to n_samples.\n",
      "  warnings.warn(\n"
     ]
    },
    {
     "name": "stdout",
     "output_type": "stream",
     "text": [
      "MLPRegressor:\n",
      "mean RMSE: 709.051 (52.1806)\n",
      "mean MAE: 410.212 (7.1538)\n",
      "mean MAPE: 57.233 (8.8880)\n",
      "\n"
     ]
    },
    {
     "name": "stderr",
     "output_type": "stream",
     "text": [
      "C:\\Users\\hzapi\\anaconda3\\lib\\site-packages\\sklearn\\neural_network\\_multilayer_perceptron.py:702: ConvergenceWarning: Stochastic Optimizer: Maximum iterations (500) reached and the optimization hasn't converged yet.\n",
      "  warnings.warn(\n"
     ]
    }
   ],
   "source": [
    "modelos, nombres = get_models()  # cargamos los modelos a comparar\n",
    "resultados = list()\n",
    "mismetricas = {'RMSE':make_scorer(mi_RMSE),'MAE':make_scorer(mi_MAE),'MAPE':make_scorer(mi_MAPE)}\n",
    "\n",
    "for i in range(len(modelos)):\n",
    " \n",
    "    kfold = RepeatedStratifiedKFold(n_splits=2, n_repeats=3,random_state=63)\n",
    "    mi_pipe = Pipeline(steps=[('preprocessor', columnasTransformer), ('regressor', modelos[i])])\n",
    "\n",
    "    resultados_out = cross_validate(mi_pipe, \n",
    "                          X_train, y_train,\n",
    "                          scoring=mismetricas,\n",
    "                          cv=kfold)\n",
    "                                    \n",
    "    resultados.append(resultados_out)\n",
    "\n",
    "    print('%s:\\nmean RMSE: %.3f (%.4f)\\nmean MAE: %.3f (%.4f)\\nmean MAPE: %.3f (%.4f)\\n' % (nombres[i],\n",
    "                                                                          np.mean(resultados_out['test_RMSE']),\n",
    "                                                                          np.std(resultados_out['test_RMSE']),\n",
    "                                                                          np.mean(resultados_out['test_MAE']),\n",
    "                                                                          np.std(resultados_out['test_MAE']),\n",
    "                                                                          np.mean(resultados_out['test_MAPE']),\n",
    "                                                                          np.std(resultados_out['test_MAPE'])\n",
    "                                                                          ))"
   ]
  },
  {
   "cell_type": "markdown",
   "metadata": {
    "id": "jzzOjA0TkXRm"
   },
   "source": [
    "Conclusiones sobre el mejor modelo encontrado en esta primera aproximación. En particular, ¿hay algún sobreentrenado o subentrenado? \n",
    "\n",
    "En relación a los tres modelos probados en este paso: Regresión Lineal, Random Forest y Perceptrón Multicapa, los tres obtuvieron mejores métricas vs. el modelo dummy. De los tres modelos el que tiene las mejores métricas es el Random Forest (*RF) siendo en el indicador de Error absoluto medio porcentual (MAPE) donde mejor se desempeñó.  En el caso del **MLP* fue 14.4% menor y en la comparación con la Regresión lineal se comportó un 13.7% menor."
   ]
  },
  {
   "cell_type": "markdown",
   "metadata": {
    "id": "iCNGx4TQ8CFI"
   },
   "source": [
    "#**Ejercicio-7.**\n",
    "\n",
    "Se muestran los **Diagramas de caja y bigote** para los errores **MAPE** de los **conjuntos de validación** obtenido. "
   ]
  },
  {
   "cell_type": "code",
   "execution_count": 52,
   "metadata": {
    "colab": {
     "base_uri": "https://localhost:8080/",
     "height": 213
    },
    "id": "ewvwUcJX78y1",
    "outputId": "c4dc21bc-a5a7-4d7c-cf28-d0975a1ba12f"
   },
   "outputs": [
    {
     "data": {
      "image/png": "[encoded data removed]",
      "text/plain": [
       "<Figure size 648x216 with 1 Axes>"
      ]
     },
     "metadata": {},
     "output_type": "display_data"
    }
   ],
   "source": [
    "sns.set(rc={'figure.figsize':(9,3)})\n",
    "rmse_resultados = list()\n",
    "mae_resultados = list()\n",
    "mape_resultados = list()\n",
    "for i in range(len(resultados)):\n",
    "    rmse_resultados.append(resultados[i]['test_RMSE'])\n",
    "    mae_resultados.append(resultados[i]['test_MAE'])\n",
    "    mape_resultados.append(resultados[i]['test_MAPE'])\n",
    "\n",
    "plt.boxplot(mape_resultados, labels=nombres, showmeans=True)\n",
    "plt.show()"
   ]
  },
  {
   "cell_type": "markdown",
   "metadata": {
    "id": "3CtQNptrlJ9u"
   },
   "source": [
    "En particular, compara estos primeros resultados de MAPE con el mejor resultado que encuentran los autores del artículo citado al inicio. Incluye tus conclusiones.\n",
    "\n",
    "**Conclusiones:**\n",
    "\n",
    "Se puede determinar de primera instancia que el modelo MLP es el que tiene un mejor resultado de MAPE inclusive antes de ser entrenado con los hiperparámetros óptimos."
   ]
  },
  {
   "cell_type": "markdown",
   "metadata": {
    "id": "n2N-xL15nC8x"
   },
   "source": []
  },
  {
   "cell_type": "markdown",
   "metadata": {
    "id": "tzQn5NR78GFg"
   },
   "source": [
    "#**Ejercicio-8.**\n",
    "\n",
    "Busqueda de los mejores hiperparámetros para el modelo Multi Layer Perceptron (**MLP**) usando una búsqueda de malla con validación cruzada (**GridSearchCV**). \n",
    "\n",
    "Los hiperparámetros en los que se ha puesto foco son los siguientes: “**hidden_layer_sizes**”, “**alpha**” y “**learning_rate_init**”. \n",
    "\n",
    "También se ha aplicado la validación cruzada con repeticiones \n",
    "(**RepeatedKFold**), a continuación se muestran los mejores hiperparámetros encontrados:\n"
   ]
  },
  {
   "cell_type": "code",
   "execution_count": 37,
   "metadata": {
    "colab": {
     "base_uri": "https://localhost:8080/"
    },
    "id": "EBKcp0278IQV",
    "outputId": "05eed23b-6d94-40f0-cf20-9a324ebb71c9"
   },
   "outputs": [
    {
     "name": "stderr",
     "output_type": "stream",
     "text": [
      "C:\\Users\\hzapi\\anaconda3\\lib\\site-packages\\sklearn\\model_selection\\_split.py:684: UserWarning: The least populated class in y has only 1 members, which is less than n_splits=2.\n",
      "  warnings.warn(\n",
      "C:\\Users\\hzapi\\anaconda3\\lib\\site-packages\\sklearn\\model_selection\\_split.py:684: UserWarning: The least populated class in y has only 1 members, which is less than n_splits=2.\n",
      "  warnings.warn(\n",
      "C:\\Users\\hzapi\\anaconda3\\lib\\site-packages\\sklearn\\model_selection\\_split.py:684: UserWarning: The least populated class in y has only 1 members, which is less than n_splits=2.\n",
      "  warnings.warn(\n"
     ]
    },
    {
     "name": "stdout",
     "output_type": "stream",
     "text": [
      "Mejor valor de MAPE obtenido con la mejor combinación: 113.61106888718787\n",
      "Mejor combinación de valores encontrados de los hiperparámetros: {'regressor__alpha': 0.1, 'regressor__hidden_layer_sizes': (20,), 'regressor__learning_rate_init': 0.1}\n",
      "Métrica utilizada: make_scorer(mi_MAPE)\n"
     ]
    },
    {
     "name": "stderr",
     "output_type": "stream",
     "text": [
      "C:\\Users\\hzapi\\anaconda3\\lib\\site-packages\\sklearn\\neural_network\\_multilayer_perceptron.py:702: ConvergenceWarning: Stochastic Optimizer: Maximum iterations (500) reached and the optimization hasn't converged yet.\n",
      "  warnings.warn(\n"
     ]
    }
   ],
   "source": [
    "modelo_mlp = MLPRegressor(\n",
    "          solver = 'adam',\n",
    "          activation = 'relu',\n",
    "          max_iter= 500,\n",
    "          random_state = 63)\n",
    "\n",
    "\n",
    "kfold = RepeatedStratifiedKFold(n_splits=2, n_repeats=3,random_state=63)\n",
    "mi_pipe_mlp = Pipeline(steps=[('preprocessor', columnasTransformer), ('regressor', modelo_mlp)])\n",
    "\n",
    "param_grid = { \n",
    "    'regressor__alpha': [0.00001,0.0001,.01,.1],\n",
    "    'regressor__learning_rate_init' : [0.00001,0.0001,.01,.1],\n",
    "    \"regressor__hidden_layer_sizes\": [(5,),(10,),(20,)]\n",
    "}\n",
    "\n",
    "grid = GridSearchCV(estimator=mi_pipe_mlp,\n",
    "                        param_grid=param_grid, \n",
    "                        cv=kfold, \n",
    "                        scoring=make_scorer(mi_MAPE),\n",
    "                        n_jobs=-1)\n",
    "\n",
    "grid.fit(X_train, y_train)\n",
    "\n",
    "print('Mejor valor de MAPE obtenido con la mejor combinación:', grid.best_score_)\n",
    "print('Mejor combinación de valores encontrados de los hiperparámetros:', grid.best_params_)\n",
    "print('Métrica utilizada:', grid.scoring)"
   ]
  },
  {
   "cell_type": "markdown",
   "metadata": {
    "id": "mASNrZWs8JTh"
   },
   "source": [
    "#**Ejercicio-9.**\n",
    "\n",
    "Con los mejores valores de los hiperparámetros encontrados realiza un análisis de la importancia de los factores. "
   ]
  },
  {
   "cell_type": "code",
   "execution_count": 38,
   "metadata": {
    "id": "X6HJP9hb8LCp"
   },
   "outputs": [
    {
     "name": "stderr",
     "output_type": "stream",
     "text": [
      "C:\\Users\\hzapi\\anaconda3\\lib\\site-packages\\sklearn\\neural_network\\_multilayer_perceptron.py:702: ConvergenceWarning: Stochastic Optimizer: Maximum iterations (500) reached and the optimization hasn't converged yet.\n",
      "  warnings.warn(\n",
      "C:\\Users\\hzapi\\anaconda3\\lib\\site-packages\\sklearn\\neural_network\\_multilayer_perceptron.py:702: ConvergenceWarning: Stochastic Optimizer: Maximum iterations (500) reached and the optimization hasn't converged yet.\n",
      "  warnings.warn(\n"
     ]
    },
    {
     "name": "stdout",
     "output_type": "stream",
     "text": [
      "Feature: 0, Score: 0.03985\n",
      "Feature: 1, Score: 0.03410\n",
      "Feature: 2, Score: 0.15643\n",
      "Feature: 3, Score: 0.33325\n",
      "Feature: 4, Score: 0.00933\n",
      "Feature: 5, Score: 0.07734\n",
      "Feature: 6, Score: 0.01464\n",
      "Feature: 7, Score: 0.02587\n",
      "Feature: 8, Score: 0.00256\n",
      "Feature: 9, Score: 0.01462\n",
      "Feature: 10, Score: 0.03824\n",
      "Feature: 11, Score: 0.00670\n",
      "Feature: 12, Score: 0.00391\n",
      "Feature: 13, Score: 0.00810\n",
      "Feature: 14, Score: 0.04180\n",
      "Feature: 15, Score: 0.11311\n",
      "Feature: 16, Score: 0.00935\n",
      "Feature: 17, Score: 0.00612\n",
      "Feature: 18, Score: 0.01936\n",
      "Feature: 19, Score: 0.02837\n",
      "Feature: 20, Score: 0.20670\n",
      "Feature: 21, Score: 0.06390\n",
      "Feature: 22, Score: 0.10347\n",
      "Feature: 23, Score: 0.02012\n",
      "Feature: 24, Score: 0.06849\n",
      "Feature: 25, Score: 0.01693\n",
      "Feature: 26, Score: 0.05701\n",
      "Feature: 27, Score: 0.00193\n",
      "Feature: 28, Score: 0.02864\n",
      "Feature: 29, Score: 0.01995\n",
      "Feature: 30, Score: 0.03511\n",
      "Feature: 31, Score: 0.01783\n",
      "Feature: 32, Score: 0.01115\n",
      "Feature: 33, Score: 0.00812\n",
      "Feature: 34, Score: 0.04598\n",
      "Feature: 35, Score: 0.02747\n",
      "Feature: 36, Score: 0.14731\n",
      "Feature: 37, Score: 0.00570\n",
      "Feature: 38, Score: 0.02543\n",
      "Feature: 39, Score: 0.01508\n",
      "Feature: 40, Score: 0.03725\n",
      "Feature: 41, Score: 0.00003\n",
      "Feature: 42, Score: 0.00000\n",
      "Feature: 43, Score: 0.00000\n",
      "Feature: 44, Score: 0.00000\n",
      "Feature: 45, Score: 0.00000\n",
      "Feature: 46, Score: 0.00827\n",
      "Feature: 47, Score: 0.04423\n",
      "Feature: 48, Score: 0.00000\n"
     ]
    }
   ],
   "source": [
    "modelo_MLP = MLPRegressor(hidden_layer_sizes=(20,), \n",
    "                            max_iter=500, \n",
    "                            alpha=0.1,\n",
    "                            learning_rate_init=0.1)  \n",
    "mi_pipe_mlp = Pipeline(steps=[('preprocessor', columnasTransformer), ('regressor', modelo_mlp)])\n",
    "mi_pipe_mlp.fit(X_train, y_train)\n",
    "\n",
    "Xx = columnasTransformer.fit(X_train)\n",
    "Xx_test = Xx.transform(X_test)\n",
    "modelo_MLP.fit(Xx_test, np.ravel(y_test))\n",
    "\n",
    "importance_mlp = permutation_importance(modelo_MLP, Xx_test.toarray(), y_test, n_repeats=10)\n",
    "\n",
    "# visualicemos la importancia de cada métrica, de las cuales sabemos\n",
    "# cuáles son las más importantes, de acuerdo a como se definieron al inicio:\n",
    "\n",
    "for i,v in enumerate(importance_mlp['importances_mean']):\n",
    "    print('Feature: %0d, Score: %.5f' % (i,v))"
   ]
  },
  {
   "cell_type": "markdown",
   "metadata": {
    "id": "V_pjb2VQn5Ec"
   },
   "source": [
    "En el siguiente **diagrama de barras** se muestran los resultados:"
   ]
  },
  {
   "cell_type": "code",
   "execution_count": 39,
   "metadata": {
    "id": "Xr6oe1VF8K_A"
   },
   "outputs": [
    {
     "data": {
      "image/png": "[encoded data removed]",
      "text/plain": [
       "<Figure size 648x216 with 1 Axes>"
      ]
     },
     "metadata": {},
     "output_type": "display_data"
    }
   ],
   "source": [
    "plt.bar([x for x in range(len(importance_mlp['importances_mean']))], importance_mlp['importances_mean'])\n",
    "plt.show()"
   ]
  },
  {
   "cell_type": "markdown",
   "metadata": {
    "id": "rB5svUDAoKZm"
   },
   "source": [
    "**Conclusiones:** \n",
    "\n",
    "Si bien todas las variables de entrada tienen un nivel de significancia para el modelo MLP se puede observar que existen 6 variables de suma importancia para el modelo MLP. No obstante dado que el MAPE se degrado quizás estos no sean los hiperparámetros adecuados para el modelo por lo que se debería de buscar alternativas de \"feauture engineering\" para reducir el ruido de clases desbalanceadas."
   ]
  },
  {
   "cell_type": "markdown",
   "metadata": {
    "id": "VUIcDshs8MzG"
   },
   "source": [
    "#**Ejercicio-10.**\n",
    "\n",
    "Repetición de los **ejercicios 8** y **9** para el modelo de bosque aleatorio (**RF**) usando el conjunto de prueba (**Test**) en busqueda de sus mejores hiperparámetros.\n",
    "\n",
    "Los hiperparámetros que se consideraron más adecuados fueron: \n"
   ]
  },
  {
   "cell_type": "code",
   "execution_count": 31,
   "metadata": {
    "id": "rXCF3dPFocW-"
   },
   "outputs": [
    {
     "name": "stderr",
     "output_type": "stream",
     "text": [
      "C:\\Users\\hzapi\\anaconda3\\lib\\site-packages\\sklearn\\model_selection\\_split.py:684: UserWarning: The least populated class in y has only 1 members, which is less than n_splits=2.\n",
      "  warnings.warn(\n",
      "C:\\Users\\hzapi\\anaconda3\\lib\\site-packages\\sklearn\\model_selection\\_split.py:684: UserWarning: The least populated class in y has only 1 members, which is less than n_splits=2.\n",
      "  warnings.warn(\n",
      "C:\\Users\\hzapi\\anaconda3\\lib\\site-packages\\sklearn\\model_selection\\_split.py:684: UserWarning: The least populated class in y has only 1 members, which is less than n_splits=2.\n",
      "  warnings.warn(\n"
     ]
    },
    {
     "name": "stdout",
     "output_type": "stream",
     "text": [
      "Mejor valor de MAPE obtenido con la mejor combinación: 239.92545378956447\n",
      "Mejor combinación de valores encontrados de los hiperparámetros: {'regressor__max_depth': 3, 'regressor__min_samples_split': 5, 'regressor__n_estimators': 50}\n",
      "Métrica utilizada: make_scorer(mi_MAPE)\n"
     ]
    },
    {
     "name": "stderr",
     "output_type": "stream",
     "text": [
      "C:\\Users\\hzapi\\anaconda3\\lib\\site-packages\\sklearn\\preprocessing\\_data.py:2583: UserWarning: n_quantiles (200) is greater than the total number of samples (100). n_quantiles is set to n_samples.\n",
      "  warnings.warn(\n"
     ]
    }
   ],
   "source": [
    "modelo_rf = RandomForestRegressor()\n",
    "\n",
    "\n",
    "kfold = RepeatedStratifiedKFold(n_splits=2, n_repeats=3,random_state=63)\n",
    "mi_pipe_rf = Pipeline(steps=[('preprocessor', columnasTransformer), ('regressor', modelo_rf)])\n",
    "\n",
    "param_grid = { \n",
    "    \"regressor__n_estimators\": [50, 100, 200],\n",
    "    \"regressor__max_depth\": [3,7,10],\n",
    "    'regressor__min_samples_split': [2,3,5]\n",
    "}\n",
    "\n",
    "grid = GridSearchCV(estimator=mi_pipe_rf,\n",
    "                        param_grid=param_grid, \n",
    "                        cv=kfold, \n",
    "                        scoring=make_scorer(mi_MAPE),\n",
    "                        n_jobs=-1)\n",
    "\n",
    "grid.fit(X_test, y_test)\n",
    "\n",
    "print('Mejor valor de MAPE obtenido con la mejor combinación:', grid.best_score_)\n",
    "print('Mejor combinación de valores encontrados de los hiperparámetros:', grid.best_params_)\n",
    "print('Métrica utilizada:', grid.scoring)"
   ]
  },
  {
   "cell_type": "code",
   "execution_count": 34,
   "metadata": {
    "id": "0lKNJNIt8N88"
   },
   "outputs": [
    {
     "name": "stdout",
     "output_type": "stream",
     "text": [
      "Feature: 0, Score: 0.03027\n",
      "Feature: 1, Score: 0.00000\n",
      "Feature: 2, Score: 0.00000\n",
      "Feature: 3, Score: 0.86752\n",
      "Feature: 4, Score: 0.00348\n",
      "Feature: 5, Score: 0.00000\n",
      "Feature: 6, Score: 0.00000\n",
      "Feature: 7, Score: -0.00021\n",
      "Feature: 8, Score: 0.00000\n",
      "Feature: 9, Score: 0.00000\n",
      "Feature: 10, Score: 0.00151\n",
      "Feature: 11, Score: 0.00000\n",
      "Feature: 12, Score: 0.00000\n",
      "Feature: 13, Score: 0.00000\n",
      "Feature: 14, Score: 0.00000\n",
      "Feature: 15, Score: 0.00484\n",
      "Feature: 16, Score: 0.00000\n",
      "Feature: 17, Score: 0.00000\n",
      "Feature: 18, Score: 0.00000\n",
      "Feature: 19, Score: 0.01101\n",
      "Feature: 20, Score: 0.00000\n",
      "Feature: 21, Score: 0.00000\n",
      "Feature: 22, Score: 0.01499\n",
      "Feature: 23, Score: 0.00000\n",
      "Feature: 24, Score: 0.06617\n",
      "Feature: 25, Score: 0.00000\n",
      "Feature: 26, Score: 0.00000\n",
      "Feature: 27, Score: 0.00000\n",
      "Feature: 28, Score: 0.00000\n",
      "Feature: 29, Score: 0.00000\n",
      "Feature: 30, Score: 0.00000\n",
      "Feature: 31, Score: 0.00000\n",
      "Feature: 32, Score: 0.00000\n",
      "Feature: 33, Score: 0.00000\n",
      "Feature: 34, Score: 0.00000\n",
      "Feature: 35, Score: 0.00000\n",
      "Feature: 36, Score: 0.08371\n",
      "Feature: 37, Score: 0.00000\n",
      "Feature: 38, Score: 0.00000\n",
      "Feature: 39, Score: 0.00000\n",
      "Feature: 40, Score: 0.00356\n",
      "Feature: 41, Score: 0.00000\n",
      "Feature: 42, Score: 0.00000\n",
      "Feature: 43, Score: 0.00000\n",
      "Feature: 44, Score: 0.00000\n",
      "Feature: 45, Score: 0.00000\n",
      "Feature: 46, Score: 0.00000\n",
      "Feature: 47, Score: 0.00000\n",
      "Feature: 48, Score: 0.00000\n"
     ]
    }
   ],
   "source": [
    "modelo_rf = RandomForestRegressor(n_estimators = 10,\n",
    "                                  min_samples_split = 5, \n",
    "                                  max_depth = 3)  \n",
    "\n",
    "Xx = columnasTransformer.fit(X_train)\n",
    "Xx_test = Xx.transform(X_test)\n",
    "modelo_rf.fit(Xx_test, np.ravel(y_test))\n",
    "\n",
    "importance_rf = permutation_importance(modelo_rf, Xx_test.toarray(), y_test, n_repeats=10)\n",
    "\n",
    "# visualicemos la importancia de cada métrica, de las cuales sabemos\n",
    "# cuáles son las más importantes, de acuerdo a como se definieron al inicio:\n",
    "\n",
    "for i,v in enumerate(importance_rf['importances_mean']):\n",
    "    print('Feature: %0d, Score: %.5f' % (i,v))"
   ]
  },
  {
   "cell_type": "markdown",
   "metadata": {
    "id": "-PnKgoIXpmnX"
   },
   "source": [
    "Diagrama de barras que muestra el análisis de **importancia de factores** con este modelo:"
   ]
  },
  {
   "cell_type": "code",
   "execution_count": 35,
   "metadata": {
    "id": "Inkq5YQe8PED"
   },
   "outputs": [
    {
     "data": {
      "image/png": "[encoded data removed]",
      "text/plain": [
       "<Figure size 648x216 with 1 Axes>"
      ]
     },
     "metadata": {},
     "output_type": "display_data"
    }
   ],
   "source": [
    "plt.bar([x for x in range(len(importance_rf['importances_mean']))], importance_rf['importances_mean'])\n",
    "plt.show()"
   ]
  },
  {
   "cell_type": "markdown",
   "metadata": {
    "id": "5LJl6oql8Pc8"
   },
   "source": [
    "#**Ejercicio-11.**\n",
    "\n",
    "Repetición de los ejercicios 8 y 9 para el modelo de regresión lineal multiple (**RLM**) usando el conjunto de prueba (Test) en busqueda de sus mejores hiperparámetros.\n",
    "\n",
    "Los hiperparámetros que se consideraron más adecuados fueron:"
   ]
  },
  {
   "cell_type": "code",
   "execution_count": 54,
   "metadata": {
    "id": "-YiSnt9t8RfN"
   },
   "outputs": [
    {
     "name": "stderr",
     "output_type": "stream",
     "text": [
      "C:\\Users\\hzapi\\anaconda3\\lib\\site-packages\\sklearn\\model_selection\\_split.py:684: UserWarning: The least populated class in y has only 1 members, which is less than n_splits=2.\n",
      "  warnings.warn(\n",
      "C:\\Users\\hzapi\\anaconda3\\lib\\site-packages\\sklearn\\model_selection\\_split.py:684: UserWarning: The least populated class in y has only 1 members, which is less than n_splits=2.\n",
      "  warnings.warn(\n",
      "C:\\Users\\hzapi\\anaconda3\\lib\\site-packages\\sklearn\\model_selection\\_split.py:684: UserWarning: The least populated class in y has only 1 members, which is less than n_splits=2.\n",
      "  warnings.warn(\n"
     ]
    },
    {
     "name": "stdout",
     "output_type": "stream",
     "text": [
      "Mejor valor de MAPE obtenido con la mejor combinación: 695.4317409362892\n",
      "Mejor combinación de valores encontrados de los hiperparámetros: {'preprocessor__numerical__impMed__strategy': 'mean', 'regressor__fit_intercept': False, 'regressor__positive': False}\n",
      "Métrica utilizada: make_scorer(mi_MAPE)\n"
     ]
    },
    {
     "name": "stderr",
     "output_type": "stream",
     "text": [
      "C:\\Users\\hzapi\\anaconda3\\lib\\site-packages\\sklearn\\model_selection\\_validation.py:378: FitFailedWarning: \n",
      "24 fits failed out of a total of 48.\n",
      "The score on these train-test partitions for these parameters will be set to nan.\n",
      "If these failures are not expected, you can try to debug them by setting error_score='raise'.\n",
      "\n",
      "Below are more details about the failures:\n",
      "--------------------------------------------------------------------------------\n",
      "24 fits failed with the following error:\n",
      "Traceback (most recent call last):\n",
      "  File \"C:\\Users\\hzapi\\anaconda3\\lib\\site-packages\\sklearn\\model_selection\\_validation.py\", line 686, in _fit_and_score\n",
      "    estimator.fit(X_train, y_train, **fit_params)\n",
      "  File \"C:\\Users\\hzapi\\anaconda3\\lib\\site-packages\\sklearn\\pipeline.py\", line 382, in fit\n",
      "    self._final_estimator.fit(Xt, y, **fit_params_last_step)\n",
      "  File \"C:\\Users\\hzapi\\anaconda3\\lib\\site-packages\\sklearn\\linear_model\\_base.py\", line 684, in fit\n",
      "    X, y = self._validate_data(\n",
      "  File \"C:\\Users\\hzapi\\anaconda3\\lib\\site-packages\\sklearn\\base.py\", line 596, in _validate_data\n",
      "    X, y = check_X_y(X, y, **check_params)\n",
      "  File \"C:\\Users\\hzapi\\anaconda3\\lib\\site-packages\\sklearn\\utils\\validation.py\", line 1074, in check_X_y\n",
      "    X = check_array(\n",
      "  File \"C:\\Users\\hzapi\\anaconda3\\lib\\site-packages\\sklearn\\utils\\validation.py\", line 822, in check_array\n",
      "    array = _ensure_sparse_format(\n",
      "  File \"C:\\Users\\hzapi\\anaconda3\\lib\\site-packages\\sklearn\\utils\\validation.py\", line 512, in _ensure_sparse_format\n",
      "    raise TypeError(\n",
      "TypeError: A sparse matrix was passed, but dense data is required. Use X.toarray() to convert to a dense numpy array.\n",
      "\n",
      "  warnings.warn(some_fits_failed_message, FitFailedWarning)\n",
      "C:\\Users\\hzapi\\anaconda3\\lib\\site-packages\\sklearn\\model_selection\\_search.py:953: UserWarning: One or more of the test scores are non-finite: [694.07315489          nan 695.43174094          nan 694.07315489\n",
      "          nan 695.43174094          nan]\n",
      "  warnings.warn(\n",
      "C:\\Users\\hzapi\\anaconda3\\lib\\site-packages\\sklearn\\preprocessing\\_data.py:2583: UserWarning: n_quantiles (200) is greater than the total number of samples (100). n_quantiles is set to n_samples.\n",
      "  warnings.warn(\n"
     ]
    }
   ],
   "source": [
    "modelo_lr = LinearRegression()\n",
    "\n",
    "\n",
    "kfold = RepeatedStratifiedKFold(n_splits=2, n_repeats=3,random_state=63)\n",
    "mi_pipe_lr = Pipeline(steps=[('preprocessor', columnasTransformer), ('regressor', modelo_lr)])\n",
    "\n",
    "param_grid = {\n",
    "    \"preprocessor__numerical__impMed__strategy\": ['mean','median'],\n",
    "    \"regressor__fit_intercept\": [True, False],\n",
    "    \"regressor__positive\": [False, True],\n",
    "}\n",
    "grid = GridSearchCV(estimator=mi_pipe_lr,\n",
    "                        param_grid=param_grid, \n",
    "                        cv=kfold, \n",
    "                        scoring=make_scorer(mi_MAPE),\n",
    "                        n_jobs=-1)\n",
    "\n",
    "grid.fit(X_test, y_test)\n",
    "\n",
    "print('Mejor valor de MAPE obtenido con la mejor combinación:', grid.best_score_)\n",
    "print('Mejor combinación de valores encontrados de los hiperparámetros:', grid.best_params_)\n",
    "print('Métrica utilizada:', grid.scoring)"
   ]
  },
  {
   "cell_type": "markdown",
   "metadata": {
    "id": "0HGebN6TqW12"
   },
   "source": [
    "Diagrama de barras que muestra el análisis de importancia de factores con este modelo:"
   ]
  },
  {
   "cell_type": "code",
   "execution_count": 55,
   "metadata": {},
   "outputs": [
    {
     "ename": "TypeError",
     "evalue": "__init__() got an unexpected keyword argument 'strategy'",
     "output_type": "error",
     "traceback": [
      "\u001b[1;31m---------------------------------------------------------------------------\u001b[0m",
      "\u001b[1;31mTypeError\u001b[0m                                 Traceback (most recent call last)",
      "\u001b[1;32m~\\AppData\\Local\\Temp/ipykernel_17992/3889200333.py\u001b[0m in \u001b[0;36m<module>\u001b[1;34m\u001b[0m\n\u001b[1;32m----> 1\u001b[1;33m modelo_lr = LinearRegression(strategy = 'mean',\n\u001b[0m\u001b[0;32m      2\u001b[0m                                   \u001b[0mfit_intercept\u001b[0m \u001b[1;33m=\u001b[0m \u001b[1;32mFalse\u001b[0m\u001b[1;33m,\u001b[0m\u001b[1;33m\u001b[0m\u001b[1;33m\u001b[0m\u001b[0m\n\u001b[0;32m      3\u001b[0m                                   positive = False)  \n\u001b[0;32m      4\u001b[0m \u001b[1;33m\u001b[0m\u001b[0m\n\u001b[0;32m      5\u001b[0m \u001b[0mXx\u001b[0m \u001b[1;33m=\u001b[0m \u001b[0mcolumnasTransformer\u001b[0m\u001b[1;33m.\u001b[0m\u001b[0mfit\u001b[0m\u001b[1;33m(\u001b[0m\u001b[0mX_train\u001b[0m\u001b[1;33m)\u001b[0m\u001b[1;33m\u001b[0m\u001b[1;33m\u001b[0m\u001b[0m\n",
      "\u001b[1;31mTypeError\u001b[0m: __init__() got an unexpected keyword argument 'strategy'"
     ]
    }
   ],
   "source": [
    "modelo_lr = LinearRegression(strategy = 'mean',\n",
    "                                  fit_intercept = False, \n",
    "                                  positive = False)  \n",
    "\n",
    "Xx = columnasTransformer.fit(X_train)\n",
    "Xx_test = Xx.transform(X_test)\n",
    "modelo_rf.fit(Xx_test, np.ravel(y_test))\n",
    "\n",
    "importance_rf = permutation_importance(modelo_rf, Xx_test.toarray(), y_test, n_repeats=10)\n",
    "\n",
    "# visualicemos la importancia de cada métrica, de las cuales sabemos\n",
    "# cuáles son las más importantes, de acuerdo a como se definieron al inicio:\n",
    "\n",
    "for i,v in enumerate(importance_rf['importances_mean']):\n",
    "    print('Feature: %0d, Score: %.5f' % (i,v))"
   ]
  },
  {
   "cell_type": "code",
   "execution_count": null,
   "metadata": {},
   "outputs": [],
   "source": [
    "plt.bar([x for x in range(len(importance_lr['importances_mean']))], importance_rf['importances_mean'])\n",
    "plt.show()"
   ]
  },
  {
   "cell_type": "markdown",
   "metadata": {
    "id": "IKW72uyk8Sbc"
   },
   "source": [
    "#**Ejercicio-12.**\n",
    "\n",
    "Compara tus resultados con los obtenidos por los autores del artículo de **Moro-Rita-Vala** con respecto al **MAPE**. "
   ]
  },
  {
   "cell_type": "markdown",
   "metadata": {
    "id": "ZdkelNHbqmX_"
   },
   "source": [
    "Conclusiones finales de la actividad:  El error absoluto medio porcentual (*MAPE) que obtuvieron los autores y que se informa en el artículo 26.9% comparado con el mejor resultado, hasta este punto, que corresponde al modelo de MLP. Lo anterior se puede entender toda vez que existe una porción importante de revisión de variables de entrada y realizar reacomodos de información clave."
   ]
  },
  {
   "cell_type": "markdown",
   "metadata": {
    "id": "7ql_r2G-DB_m"
   },
   "source": [
    "###**Fin de la Actividad de la semana 7.**"
   ]
  }
 ],
 "metadata": {
  "colab": {
   "collapsed_sections": [],
   "provenance": []
  },
  "kernelspec": {
   "display_name": "Python 3 (ipykernel)",
   "language": "python",
   "name": "python3"
  },
  "language_info": {
   "codemirror_mode": {
    "name": "ipython",
    "version": 3
   },
   "file_extension": ".py",
   "mimetype": "text/x-python",
   "name": "python",
   "nbconvert_exporter": "python",
   "pygments_lexer": "ipython3",
   "version": "3.8.11"
  }
 },
 "nbformat": 4,
 "nbformat_minor": 1
}
